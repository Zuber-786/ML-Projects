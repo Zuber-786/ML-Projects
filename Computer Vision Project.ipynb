{
 "cells": [
  {
   "cell_type": "markdown",
   "id": "9b1f90fa",
   "metadata": {},
   "source": [
    "###### Importing necessary libraries"
   ]
  },
  {
   "cell_type": "code",
   "execution_count": 1,
   "id": "97e82f15",
   "metadata": {},
   "outputs": [],
   "source": [
    "import pytesseract\n",
    "import cv2\n",
    "import pandas as pd\n",
    "import re"
   ]
  },
  {
   "cell_type": "markdown",
   "id": "4e30f4e6",
   "metadata": {},
   "source": [
    "###### Setting the path to Tesseract OCR"
   ]
  },
  {
   "cell_type": "code",
   "execution_count": 2,
   "id": "f85da40e",
   "metadata": {},
   "outputs": [],
   "source": [
    "pytesseract.pytesseract.tesseract_cmd = 'C:\\\\Program Files\\\\Tesseract-OCR\\\\tesseract.exe'"
   ]
  },
  {
   "cell_type": "markdown",
   "id": "7e814451",
   "metadata": {},
   "source": [
    "###### Reading all 3 images of invoices using cv2 and storing each in different variable"
   ]
  },
  {
   "cell_type": "code",
   "execution_count": 3,
   "id": "ace56444",
   "metadata": {},
   "outputs": [],
   "source": [
    "img1 = cv2.imread('invoice 1.jpg')\n",
    "img2 = cv2.imread('invoice 2.jpg')\n",
    "img3 = cv2.imread('invoice 3.jpg')"
   ]
  },
  {
   "cell_type": "markdown",
   "id": "0a1c3dda",
   "metadata": {},
   "source": [
    "###### Converting the images from BGR to the RGB color space and storing each in a different variable"
   ]
  },
  {
   "cell_type": "code",
   "execution_count": 4,
   "id": "a2b7613c",
   "metadata": {},
   "outputs": [],
   "source": [
    "img1_rgb = cv2.cvtColor(img1, cv2.COLOR_BGR2RGB)\n",
    "img2_rgb = cv2.cvtColor(img2, cv2.COLOR_BGR2RGB)\n",
    "img3_rgb = cv2.cvtColor(img3, cv2.COLOR_BGR2RGB)"
   ]
  },
  {
   "cell_type": "markdown",
   "id": "33a7b9f1",
   "metadata": {},
   "source": [
    "###### Extracting text content from the converted images using pytesseract and storing each in a different variable"
   ]
  },
  {
   "cell_type": "code",
   "execution_count": 5,
   "id": "6edb4df4",
   "metadata": {},
   "outputs": [],
   "source": [
    "imgtext1 = pytesseract.image_to_string(img1_rgb)\n",
    "imgtext2 = pytesseract.image_to_string(img2_rgb)\n",
    "imgtext3 = pytesseract.image_to_string(img3_rgb)"
   ]
  },
  {
   "cell_type": "markdown",
   "id": "1907ddd9",
   "metadata": {},
   "source": [
    "###### Storing all extracted text contents from the invoices in a list called 'invoices_text'"
   ]
  },
  {
   "cell_type": "code",
   "execution_count": 6,
   "id": "c94972d9",
   "metadata": {},
   "outputs": [],
   "source": [
    "invoices_text = [imgtext1, imgtext2, imgtext3]"
   ]
  },
  {
   "cell_type": "markdown",
   "id": "750ef18b",
   "metadata": {},
   "source": [
    "###### Creating a dictionary of common columns from all invoices"
   ]
  },
  {
   "cell_type": "code",
   "execution_count": 7,
   "id": "80aa8cbe",
   "metadata": {},
   "outputs": [],
   "source": [
    "invoices_data = {'Name of Business':[],\n",
    "                'Address':[],\n",
    "                'Website':[],\n",
    "                'Email':[],\n",
    "                'Contact':[],\n",
    "                'Bill To':[],\n",
    "                'Ship To':[],\n",
    "                'Invoice Date':[],\n",
    "                'Subtotal':[],\n",
    "                'Discount':[],\n",
    "                'Tax Rate':[],\n",
    "                'Total Tax':[],\n",
    "                'Shipping/Handling':[],\n",
    "                'Balance Due':[]\n",
    "                }"
   ]
  },
  {
   "cell_type": "markdown",
   "id": "37cb2466",
   "metadata": {},
   "source": [
    "###### Iterating through the invoices_text list to search for specific patterns using regular expressions for extracting values from each text content and then filling the extracted values from each invoice text content into the corresponding fields in the invoice_data dictionary"
   ]
  },
  {
   "cell_type": "code",
   "execution_count": 8,
   "id": "885ffa1a",
   "metadata": {},
   "outputs": [],
   "source": [
    "for text in invoices_text:\n",
    "    business_name = re.search(r'Business Name',text)\n",
    "    address = re.search(r'\\b\\d+\\s[\\w\\s]+,\\s[\\w\\s]+,\\s[\\w\\s]+,\\sZip\\b',text)\n",
    "    site = re.search(r'\\bWebsite\\b',text)\n",
    "    email = re.search(r'\\bEmail Address\\b',text)\n",
    "    contact = re.search(r'\\bContact Number\\b',text) \n",
    "    bill_to = re.search(r'[A-Z]+ Enterprise',text)\n",
    "    ship_to = re.search(r'[A-Z]+ Enterprise',text)\n",
    "    invoice_date = re.search(r'\\b\\d{2}/\\d{2}/\\d{4}\\b',text)\n",
    "    subtotal = re.search(r'(?<=SUBTOTAL\\s)\\d+\\.\\d+',text)\n",
    "    discount = re.search(r'(?<=DISCOUNT\\s)\\d+\\.\\d+',text) \n",
    "    tax_rate = re.search(r'(?<=TAX RATE\\s)\\d+\\.\\d+',text) \n",
    "    total_tax = re.search(r'(?<=TOTAL TAX\\s)\\d+\\.\\d+',text) \n",
    "    shipping = re.search(r'(?<=SHIPPING/ HANDLING\\s)\\d+\\.\\d+',text) \n",
    "    balance_due = re.search(r'€\\s*\\d+(?:,\\d{3})*(?:\\.\\d{2})?',text)\n",
    "    \n",
    "    \n",
    "    invoices_data['Name of Business'].append(business_name.group())\n",
    "    invoices_data['Address'].append(address.group())       \n",
    "    invoices_data['Website'].append(site.group())    \n",
    "    invoices_data['Email'].append(email.group())   \n",
    "    invoices_data['Contact'].append(contact.group()) \n",
    "    invoices_data['Bill To'].append(bill_to.group())\n",
    "    invoices_data['Ship To'].append(ship_to.group())\n",
    "    invoices_data['Invoice Date'].append(invoice_date.group())   \n",
    "    invoices_data['Subtotal'].append(subtotal.group()) \n",
    "    invoices_data['Discount'].append(discount.group())  \n",
    "    invoices_data['Tax Rate'].append(tax_rate.group())                                                     \n",
    "    invoices_data['Total Tax'].append(total_tax.group())                                                     \n",
    "    invoices_data['Shipping/Handling'].append(shipping.group())                                                     \n",
    "    invoices_data['Balance Due'].append(balance_due.group())                                                     "
   ]
  },
  {
   "cell_type": "markdown",
   "id": "08553837",
   "metadata": {},
   "source": [
    "###### Creating a DataFrame from the above dictionary and displaying it in a structured manner"
   ]
  },
  {
   "cell_type": "code",
   "execution_count": 9,
   "id": "7e2d51ee",
   "metadata": {},
   "outputs": [
    {
     "data": {
      "text/html": [
       "<div>\n",
       "<style scoped>\n",
       "    .dataframe tbody tr th:only-of-type {\n",
       "        vertical-align: middle;\n",
       "    }\n",
       "\n",
       "    .dataframe tbody tr th {\n",
       "        vertical-align: top;\n",
       "    }\n",
       "\n",
       "    .dataframe thead th {\n",
       "        text-align: right;\n",
       "    }\n",
       "</style>\n",
       "<table border=\"1\" class=\"dataframe\">\n",
       "  <thead>\n",
       "    <tr style=\"text-align: right;\">\n",
       "      <th></th>\n",
       "      <th>Name of Business</th>\n",
       "      <th>Address</th>\n",
       "      <th>Website</th>\n",
       "      <th>Email</th>\n",
       "      <th>Contact</th>\n",
       "      <th>Bill To</th>\n",
       "      <th>Ship To</th>\n",
       "      <th>Invoice Date</th>\n",
       "      <th>Subtotal</th>\n",
       "      <th>Discount</th>\n",
       "      <th>Tax Rate</th>\n",
       "      <th>Total Tax</th>\n",
       "      <th>Shipping/Handling</th>\n",
       "      <th>Balance Due</th>\n",
       "    </tr>\n",
       "  </thead>\n",
       "  <tbody>\n",
       "    <tr>\n",
       "      <th>0</th>\n",
       "      <td>Business Name</td>\n",
       "      <td>123 Street Address, City, State, Zip</td>\n",
       "      <td>Website</td>\n",
       "      <td>Email Address</td>\n",
       "      <td>Contact Number</td>\n",
       "      <td>ABC Enterprise</td>\n",
       "      <td>ABC Enterprise</td>\n",
       "      <td>01/02/2022</td>\n",
       "      <td>0.00</td>\n",
       "      <td>0.00</td>\n",
       "      <td>0.00</td>\n",
       "      <td>0.00</td>\n",
       "      <td>0.00</td>\n",
       "      <td>€ 1000.00</td>\n",
       "    </tr>\n",
       "    <tr>\n",
       "      <th>1</th>\n",
       "      <td>Business Name</td>\n",
       "      <td>123 Street Address, City, State, Zip</td>\n",
       "      <td>Website</td>\n",
       "      <td>Email Address</td>\n",
       "      <td>Contact Number</td>\n",
       "      <td>XYZ Enterprise</td>\n",
       "      <td>XYZ Enterprise</td>\n",
       "      <td>02/05/2022</td>\n",
       "      <td>0.00</td>\n",
       "      <td>0.00</td>\n",
       "      <td>0.00</td>\n",
       "      <td>0.00</td>\n",
       "      <td>0.00</td>\n",
       "      <td>€ 1800.00</td>\n",
       "    </tr>\n",
       "    <tr>\n",
       "      <th>2</th>\n",
       "      <td>Business Name</td>\n",
       "      <td>123 Street Address, City, State, Zip</td>\n",
       "      <td>Website</td>\n",
       "      <td>Email Address</td>\n",
       "      <td>Contact Number</td>\n",
       "      <td>MY Enterprise</td>\n",
       "      <td>MY Enterprise</td>\n",
       "      <td>02/04/2022</td>\n",
       "      <td>0.00</td>\n",
       "      <td>0.00</td>\n",
       "      <td>0.00</td>\n",
       "      <td>0.00</td>\n",
       "      <td>0.00</td>\n",
       "      <td>€ 2000.00</td>\n",
       "    </tr>\n",
       "  </tbody>\n",
       "</table>\n",
       "</div>"
      ],
      "text/plain": [
       "  Name of Business                               Address  Website  \\\n",
       "0    Business Name  123 Street Address, City, State, Zip  Website   \n",
       "1    Business Name  123 Street Address, City, State, Zip  Website   \n",
       "2    Business Name  123 Street Address, City, State, Zip  Website   \n",
       "\n",
       "           Email         Contact         Bill To         Ship To Invoice Date  \\\n",
       "0  Email Address  Contact Number  ABC Enterprise  ABC Enterprise   01/02/2022   \n",
       "1  Email Address  Contact Number  XYZ Enterprise  XYZ Enterprise   02/05/2022   \n",
       "2  Email Address  Contact Number   MY Enterprise   MY Enterprise   02/04/2022   \n",
       "\n",
       "  Subtotal Discount Tax Rate Total Tax Shipping/Handling Balance Due  \n",
       "0     0.00     0.00     0.00      0.00              0.00   € 1000.00  \n",
       "1     0.00     0.00     0.00      0.00              0.00   € 1800.00  \n",
       "2     0.00     0.00     0.00      0.00              0.00   € 2000.00  "
      ]
     },
     "execution_count": 9,
     "metadata": {},
     "output_type": "execute_result"
    }
   ],
   "source": [
    "df = pd.DataFrame(invoices_data)\n",
    "df"
   ]
  }
 ],
 "metadata": {
  "kernelspec": {
   "display_name": "Python 3 (ipykernel)",
   "language": "python",
   "name": "python3"
  },
  "language_info": {
   "codemirror_mode": {
    "name": "ipython",
    "version": 3
   },
   "file_extension": ".py",
   "mimetype": "text/x-python",
   "name": "python",
   "nbconvert_exporter": "python",
   "pygments_lexer": "ipython3",
   "version": "3.10.9"
  }
 },
 "nbformat": 4,
 "nbformat_minor": 5
}
